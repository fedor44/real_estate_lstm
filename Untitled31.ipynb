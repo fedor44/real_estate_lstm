{
  "nbformat": 4,
  "nbformat_minor": 0,
  "metadata": {
    "colab": {
      "provenance": [],
      "authorship_tag": "ABX9TyOXEbqR/D4Nr3isq5qMzU10",
      "include_colab_link": true
    },
    "kernelspec": {
      "name": "python3",
      "display_name": "Python 3"
    },
    "language_info": {
      "name": "python"
    }
  },
  "cells": [
    {
      "cell_type": "markdown",
      "metadata": {
        "id": "view-in-github",
        "colab_type": "text"
      },
      "source": [
        "<a href=\"https://colab.research.google.com/github/fedor44/real_estate_lstm/blob/main/Untitled31.ipynb\" target=\"_parent\"><img src=\"https://colab.research.google.com/assets/colab-badge.svg\" alt=\"Open In Colab\"/></a>"
      ]
    },
    {
      "cell_type": "code",
      "execution_count": 1,
      "metadata": {
        "colab": {
          "base_uri": "https://localhost:8080/",
          "height": 424
        },
        "id": "zk52bgSWjcM2",
        "outputId": "42d91a09-3a43-4f39-fbe3-6d300c4ac23f"
      },
      "outputs": [
        {
          "output_type": "execute_result",
          "data": {
            "text/plain": [
              "             날짜     거래금액   전용면적  KOSPI 지수  기준금리      매매수급동향\n",
              "0    2020-04-29  115,000  59.98   1947.56  0.75  100.000000\n",
              "1    2020-04-30  140,000  84.97   1947.56  0.75  100.000000\n",
              "2    2020-04-30  140,000  84.97   1947.56  0.75  100.000000\n",
              "3    2020-05-05  144,000  84.94   1947.56  0.75   97.419355\n",
              "4    2020-05-30  144,000  84.95   1947.56  0.50   97.419355\n",
              "..          ...      ...    ...       ...   ...         ...\n",
              "130  2022-10-17  132,500  84.97   2219.71  3.00   77.777778\n",
              "131  2022-10-25  105,000  59.98   2235.07  3.00   77.777778\n",
              "132  2022-11-02  130,000  84.97   2336.87  3.00   77.777778\n",
              "133  2022-11-04  107,000  59.98   2348.43  3.00   77.777778\n",
              "134  2022-11-16   93,000  59.98   2477.45  3.00   77.777778\n",
              "\n",
              "[135 rows x 6 columns]"
            ],
            "text/html": [
              "\n",
              "  <div id=\"df-a3472e29-c9ca-4aae-b0e8-57ee7023e45e\">\n",
              "    <div class=\"colab-df-container\">\n",
              "      <div>\n",
              "<style scoped>\n",
              "    .dataframe tbody tr th:only-of-type {\n",
              "        vertical-align: middle;\n",
              "    }\n",
              "\n",
              "    .dataframe tbody tr th {\n",
              "        vertical-align: top;\n",
              "    }\n",
              "\n",
              "    .dataframe thead th {\n",
              "        text-align: right;\n",
              "    }\n",
              "</style>\n",
              "<table border=\"1\" class=\"dataframe\">\n",
              "  <thead>\n",
              "    <tr style=\"text-align: right;\">\n",
              "      <th></th>\n",
              "      <th>날짜</th>\n",
              "      <th>거래금액</th>\n",
              "      <th>전용면적</th>\n",
              "      <th>KOSPI 지수</th>\n",
              "      <th>기준금리</th>\n",
              "      <th>매매수급동향</th>\n",
              "    </tr>\n",
              "  </thead>\n",
              "  <tbody>\n",
              "    <tr>\n",
              "      <th>0</th>\n",
              "      <td>2020-04-29</td>\n",
              "      <td>115,000</td>\n",
              "      <td>59.98</td>\n",
              "      <td>1947.56</td>\n",
              "      <td>0.75</td>\n",
              "      <td>100.000000</td>\n",
              "    </tr>\n",
              "    <tr>\n",
              "      <th>1</th>\n",
              "      <td>2020-04-30</td>\n",
              "      <td>140,000</td>\n",
              "      <td>84.97</td>\n",
              "      <td>1947.56</td>\n",
              "      <td>0.75</td>\n",
              "      <td>100.000000</td>\n",
              "    </tr>\n",
              "    <tr>\n",
              "      <th>2</th>\n",
              "      <td>2020-04-30</td>\n",
              "      <td>140,000</td>\n",
              "      <td>84.97</td>\n",
              "      <td>1947.56</td>\n",
              "      <td>0.75</td>\n",
              "      <td>100.000000</td>\n",
              "    </tr>\n",
              "    <tr>\n",
              "      <th>3</th>\n",
              "      <td>2020-05-05</td>\n",
              "      <td>144,000</td>\n",
              "      <td>84.94</td>\n",
              "      <td>1947.56</td>\n",
              "      <td>0.75</td>\n",
              "      <td>97.419355</td>\n",
              "    </tr>\n",
              "    <tr>\n",
              "      <th>4</th>\n",
              "      <td>2020-05-30</td>\n",
              "      <td>144,000</td>\n",
              "      <td>84.95</td>\n",
              "      <td>1947.56</td>\n",
              "      <td>0.50</td>\n",
              "      <td>97.419355</td>\n",
              "    </tr>\n",
              "    <tr>\n",
              "      <th>...</th>\n",
              "      <td>...</td>\n",
              "      <td>...</td>\n",
              "      <td>...</td>\n",
              "      <td>...</td>\n",
              "      <td>...</td>\n",
              "      <td>...</td>\n",
              "    </tr>\n",
              "    <tr>\n",
              "      <th>130</th>\n",
              "      <td>2022-10-17</td>\n",
              "      <td>132,500</td>\n",
              "      <td>84.97</td>\n",
              "      <td>2219.71</td>\n",
              "      <td>3.00</td>\n",
              "      <td>77.777778</td>\n",
              "    </tr>\n",
              "    <tr>\n",
              "      <th>131</th>\n",
              "      <td>2022-10-25</td>\n",
              "      <td>105,000</td>\n",
              "      <td>59.98</td>\n",
              "      <td>2235.07</td>\n",
              "      <td>3.00</td>\n",
              "      <td>77.777778</td>\n",
              "    </tr>\n",
              "    <tr>\n",
              "      <th>132</th>\n",
              "      <td>2022-11-02</td>\n",
              "      <td>130,000</td>\n",
              "      <td>84.97</td>\n",
              "      <td>2336.87</td>\n",
              "      <td>3.00</td>\n",
              "      <td>77.777778</td>\n",
              "    </tr>\n",
              "    <tr>\n",
              "      <th>133</th>\n",
              "      <td>2022-11-04</td>\n",
              "      <td>107,000</td>\n",
              "      <td>59.98</td>\n",
              "      <td>2348.43</td>\n",
              "      <td>3.00</td>\n",
              "      <td>77.777778</td>\n",
              "    </tr>\n",
              "    <tr>\n",
              "      <th>134</th>\n",
              "      <td>2022-11-16</td>\n",
              "      <td>93,000</td>\n",
              "      <td>59.98</td>\n",
              "      <td>2477.45</td>\n",
              "      <td>3.00</td>\n",
              "      <td>77.777778</td>\n",
              "    </tr>\n",
              "  </tbody>\n",
              "</table>\n",
              "<p>135 rows × 6 columns</p>\n",
              "</div>\n",
              "      <button class=\"colab-df-convert\" onclick=\"convertToInteractive('df-a3472e29-c9ca-4aae-b0e8-57ee7023e45e')\"\n",
              "              title=\"Convert this dataframe to an interactive table.\"\n",
              "              style=\"display:none;\">\n",
              "        \n",
              "  <svg xmlns=\"http://www.w3.org/2000/svg\" height=\"24px\"viewBox=\"0 0 24 24\"\n",
              "       width=\"24px\">\n",
              "    <path d=\"M0 0h24v24H0V0z\" fill=\"none\"/>\n",
              "    <path d=\"M18.56 5.44l.94 2.06.94-2.06 2.06-.94-2.06-.94-.94-2.06-.94 2.06-2.06.94zm-11 1L8.5 8.5l.94-2.06 2.06-.94-2.06-.94L8.5 2.5l-.94 2.06-2.06.94zm10 10l.94 2.06.94-2.06 2.06-.94-2.06-.94-.94-2.06-.94 2.06-2.06.94z\"/><path d=\"M17.41 7.96l-1.37-1.37c-.4-.4-.92-.59-1.43-.59-.52 0-1.04.2-1.43.59L10.3 9.45l-7.72 7.72c-.78.78-.78 2.05 0 2.83L4 21.41c.39.39.9.59 1.41.59.51 0 1.02-.2 1.41-.59l7.78-7.78 2.81-2.81c.8-.78.8-2.07 0-2.86zM5.41 20L4 18.59l7.72-7.72 1.47 1.35L5.41 20z\"/>\n",
              "  </svg>\n",
              "      </button>\n",
              "      \n",
              "  <style>\n",
              "    .colab-df-container {\n",
              "      display:flex;\n",
              "      flex-wrap:wrap;\n",
              "      gap: 12px;\n",
              "    }\n",
              "\n",
              "    .colab-df-convert {\n",
              "      background-color: #E8F0FE;\n",
              "      border: none;\n",
              "      border-radius: 50%;\n",
              "      cursor: pointer;\n",
              "      display: none;\n",
              "      fill: #1967D2;\n",
              "      height: 32px;\n",
              "      padding: 0 0 0 0;\n",
              "      width: 32px;\n",
              "    }\n",
              "\n",
              "    .colab-df-convert:hover {\n",
              "      background-color: #E2EBFA;\n",
              "      box-shadow: 0px 1px 2px rgba(60, 64, 67, 0.3), 0px 1px 3px 1px rgba(60, 64, 67, 0.15);\n",
              "      fill: #174EA6;\n",
              "    }\n",
              "\n",
              "    [theme=dark] .colab-df-convert {\n",
              "      background-color: #3B4455;\n",
              "      fill: #D2E3FC;\n",
              "    }\n",
              "\n",
              "    [theme=dark] .colab-df-convert:hover {\n",
              "      background-color: #434B5C;\n",
              "      box-shadow: 0px 1px 3px 1px rgba(0, 0, 0, 0.15);\n",
              "      filter: drop-shadow(0px 1px 2px rgba(0, 0, 0, 0.3));\n",
              "      fill: #FFFFFF;\n",
              "    }\n",
              "  </style>\n",
              "\n",
              "      <script>\n",
              "        const buttonEl =\n",
              "          document.querySelector('#df-a3472e29-c9ca-4aae-b0e8-57ee7023e45e button.colab-df-convert');\n",
              "        buttonEl.style.display =\n",
              "          google.colab.kernel.accessAllowed ? 'block' : 'none';\n",
              "\n",
              "        async function convertToInteractive(key) {\n",
              "          const element = document.querySelector('#df-a3472e29-c9ca-4aae-b0e8-57ee7023e45e');\n",
              "          const dataTable =\n",
              "            await google.colab.kernel.invokeFunction('convertToInteractive',\n",
              "                                                     [key], {});\n",
              "          if (!dataTable) return;\n",
              "\n",
              "          const docLinkHtml = 'Like what you see? Visit the ' +\n",
              "            '<a target=\"_blank\" href=https://colab.research.google.com/notebooks/data_table.ipynb>data table notebook</a>'\n",
              "            + ' to learn more about interactive tables.';\n",
              "          element.innerHTML = '';\n",
              "          dataTable['output_type'] = 'display_data';\n",
              "          await google.colab.output.renderOutput(dataTable, element);\n",
              "          const docLink = document.createElement('div');\n",
              "          docLink.innerHTML = docLinkHtml;\n",
              "          element.appendChild(docLink);\n",
              "        }\n",
              "      </script>\n",
              "    </div>\n",
              "  </div>\n",
              "  "
            ]
          },
          "metadata": {},
          "execution_count": 1
        }
      ],
      "source": [
        "import tensorflow as tf\n",
        "import numpy as np\n",
        "import pandas as pd\n",
        "import matplotlib.pyplot as plt\n",
        "\n",
        "# 분석을 위한 데이터 로드\n",
        "real_estate_file = '/content/전체데이터.csv'\n",
        "df = pd.read_csv(real_estate_file, index_col = False, encoding = 'cp949')\n",
        "\n",
        "df"
      ]
    },
    {
      "cell_type": "code",
      "source": [
        "# 평수별 데이터 분석을 위한 전처리\n",
        "size59 = df[(df['전용면적']>=59) & (df['전용면적']<=60)].copy()\n",
        "size59['거래금액'] = size59['거래금액'].str.replace(',','')\n",
        "size59['거래금액'] = size59['거래금액'].astype(int)\n",
        "\n",
        "# 평수별 데이터 분석을 위한 전처리\n",
        "size84 = df[(df['전용면적']>=84) & (df['전용면적']<=85)].copy()\n",
        "size84['거래금액'] = size84['거래금액'].str.replace(',','')\n",
        "size84['거래금액'] = size84['거래금액'].astype(int)\n",
        "\n",
        "# 통계정보 출력\n",
        "print(size59.describe())\n",
        "print(size84.describe())\n",
        "\n",
        "# missing Data 확인\n",
        "print(size59.isnull().sum())\n",
        "print(size84.isnull().sum())"
      ],
      "metadata": {
        "colab": {
          "base_uri": "https://localhost:8080/"
        },
        "id": "kSV2yFltkAvQ",
        "outputId": "ced51614-b266-4b7d-93df-c6e48b55c7bb"
      },
      "execution_count": 2,
      "outputs": [
        {
          "output_type": "stream",
          "name": "stdout",
          "text": [
            "                거래금액       전용면적     KOSPI 지수       기준금리      매매수급동향\n",
            "count      58.000000  58.000000    58.000000  58.000000   58.000000\n",
            "mean   125812.103448  59.976034  2540.124483   0.956897  106.211464\n",
            "std     11422.607859   0.020169   378.532414   0.818023   13.765454\n",
            "min     93000.000000  59.830000  1947.560000   0.500000   77.777778\n",
            "25%    117850.000000  59.980000  2235.767500   0.500000  100.806452\n",
            "50%    126250.000000  59.980000  2435.630000   0.500000  105.000000\n",
            "75%    134375.000000  59.980000  2767.020000   0.750000  117.903226\n",
            "max    146500.000000  59.980000  3282.060000   3.000000  127.300347\n",
            "                거래금액       전용면적     KOSPI 지수       기준금리      매매수급동향\n",
            "count      71.000000  71.000000    71.000000  71.000000   71.000000\n",
            "mean   160884.028169  84.960845  2619.551972   0.774648  110.168500\n",
            "std     14770.362373   0.015000   435.531729   0.596350   12.781468\n",
            "min    130000.000000  84.930000  1947.560000   0.500000   77.777778\n",
            "25%    149000.000000  84.950000  2234.540000   0.500000  103.225807\n",
            "50%    160000.000000  84.970000  2435.920000   0.500000  113.064516\n",
            "75%    174000.000000  84.970000  3050.885000   0.750000  119.516129\n",
            "max    198000.000000  84.970000  3282.060000   3.000000  127.300347\n",
            "날짜          0\n",
            "거래금액        0\n",
            "전용면적        0\n",
            "KOSPI 지수    0\n",
            "기준금리        0\n",
            "매매수급동향      0\n",
            "dtype: int64\n",
            "날짜          0\n",
            "거래금액        0\n",
            "전용면적        0\n",
            "KOSPI 지수    0\n",
            "기준금리        0\n",
            "매매수급동향      0\n",
            "dtype: int64\n"
          ]
        }
      ]
    },
    {
      "cell_type": "code",
      "source": [
        "# 각 평형별 정규화 (필요 부분 수치부분만 정규화)\n",
        "from sklearn.preprocessing import MinMaxScaler\n",
        "\n",
        "scaler = MinMaxScaler()\n",
        "scale_cols = ['거래금액', '기준금리', 'KOSPI 지수', '매매수급동향']\n",
        "scaled_df59 = scaler.fit_transform(size59[scale_cols])\n",
        "scaled_df59 = pd.DataFrame(scaled_df59, columns = scale_cols)\n",
        "\n",
        "scaled_df84 = scaler.fit_transform(size84[scale_cols])\n",
        "scaled_df84 = pd.DataFrame(scaled_df84, columns = scale_cols)\n",
        "\n",
        "print(scaled_df59)\n",
        "print(scaled_df84)"
      ],
      "metadata": {
        "colab": {
          "base_uri": "https://localhost:8080/"
        },
        "id": "xikzcXLmmdpI",
        "outputId": "ddeb48bc-4215-481d-c5bf-8340b5bed992"
      },
      "execution_count": 3,
      "outputs": [
        {
          "output_type": "stream",
          "name": "stdout",
          "text": [
            "        거래금액  기준금리  KOSPI 지수    매매수급동향\n",
            "0   0.411215   0.1  0.000000  0.448729\n",
            "1   0.317757   0.0  0.175579  0.513867\n",
            "2   0.463551   0.0  0.180862  0.513867\n",
            "3   0.504673   0.0  0.185935  0.513867\n",
            "4   0.504673   0.0  0.144991  0.513867\n",
            "5   0.444860   0.0  0.144991  0.513867\n",
            "6   0.467290   0.0  0.134260  0.513867\n",
            "7   0.429907   0.0  0.123499  0.513867\n",
            "8   0.691589   0.0  0.140195  0.513867\n",
            "9   0.504673   0.0  0.140195  0.513867\n",
            "10  0.523364   0.0  0.109344  0.513867\n",
            "11  0.598131   0.0  0.109344  0.513867\n",
            "12  0.598131   0.0  0.120472  0.513867\n",
            "13  0.785047   0.0  0.226160  0.852585\n",
            "14  0.878505   0.0  0.226160  0.852585\n",
            "15  0.598131   0.0  0.226160  0.852585\n",
            "16  0.566355   0.0  0.227411  0.842815\n",
            "17  0.775701   0.0  0.344646  0.842815\n",
            "18  0.579439   0.0  0.314103  0.842815\n",
            "19  0.485981   0.0  0.314103  0.842815\n",
            "20  0.588785   0.0  0.365950  0.712539\n",
            "21  0.607477   0.0  0.288520  0.712539\n",
            "22  0.373869   0.0  0.270154  0.712539\n",
            "23  0.869159   0.0  0.449502  0.549693\n",
            "24  0.598131   0.0  0.502211  0.549693\n",
            "25  0.850467   0.0  0.502211  0.549693\n",
            "26  0.878505   0.0  0.482413  0.549693\n",
            "27  0.672897   0.0  0.545777  0.725566\n",
            "28  0.654206   0.0  0.598651  0.725566\n",
            "29  0.785047   0.0  0.616336  0.810246\n",
            "30  0.728972   0.0  0.781574  0.810246\n",
            "31  0.785047   0.0  0.812379  0.810246\n",
            "32  0.785047   0.0  0.909164  0.868870\n",
            "33  0.635514   0.0  0.770746  0.712539\n",
            "34  0.682243   0.0  0.879183  0.644144\n",
            "35  0.691589   0.0  0.883867  0.644144\n",
            "36  0.747664   0.0  0.883867  0.644144\n",
            "37  0.710280   0.0  0.880142  0.732080\n",
            "38  0.841121   0.0  1.000000  0.992989\n",
            "39  0.912150   0.0  0.995556  1.000000\n",
            "40  0.912150   0.0  0.995556  1.000000\n",
            "41  1.000000   0.1  0.856238  1.000000\n",
            "42  0.962617   0.1  0.856238  1.000000\n",
            "43  0.921495   0.1  0.725980  0.796670\n",
            "44  0.766355   0.4  0.607224  0.351446\n",
            "45  0.762617   0.4  0.504219  0.351446\n",
            "46  0.672897   0.5  0.504219  0.351446\n",
            "47  0.663551   0.5  0.504219  0.351446\n",
            "48  0.317757   0.7  0.365515  0.222612\n",
            "49  0.411215   0.7  0.374590  0.222612\n",
            "50  0.411215   0.8  0.399753  0.222612\n",
            "51  0.411215   0.8  0.359183  0.222612\n",
            "52  0.411215   0.8  0.359183  0.103418\n",
            "53  0.168224   0.8  0.204856  0.103418\n",
            "54  0.766355   0.8  0.217535  0.000000\n",
            "55  0.224299   1.0  0.215444  0.000000\n",
            "56  0.261682   1.0  0.300390  0.000000\n",
            "57  0.000000   1.0  0.397070  0.000000\n",
            "        거래금액  기준금리  KOSPI 지수    매매수급동향\n",
            "0   0.147059   0.1  0.000000  0.448729\n",
            "1   0.147059   0.1  0.000000  0.448729\n",
            "2   0.205882   0.1  0.000000  0.396619\n",
            "3   0.205882   0.0  0.000000  0.396619\n",
            "4   0.286765   0.0  0.149449  0.513867\n",
            "..       ...   ...       ...       ...\n",
            "66  0.264706   0.7  0.348745  0.288344\n",
            "67  0.264706   0.7  0.348745  0.222612\n",
            "68  0.654412   0.8  0.376156  0.103418\n",
            "69  0.036765   1.0  0.203934  0.000000\n",
            "70  0.000000   1.0  0.291727  0.000000\n",
            "\n",
            "[71 rows x 4 columns]\n"
          ]
        }
      ]
    },
    {
      "cell_type": "code",
      "source": [
        "# 시계열 dataset 생성 함수\n",
        "def make_dataset(feature, label, window_size):\n",
        "\n",
        "  feature_list = []\n",
        "  label_list = []\n",
        "\n",
        "  for i in range(len(feature) - window_size):\n",
        "    feature_list.append(feature[i:i + window_size])\n",
        "    label_list.append(label[i + window_size])\n",
        "\n",
        "  return np.array(feature_list), np.array(label_list)"
      ],
      "metadata": {
        "id": "bg_iwGCZoQ3I"
      },
      "execution_count": 4,
      "outputs": []
    },
    {
      "cell_type": "code",
      "source": [
        "# feature_df, label_df 생성\n",
        "#feature_cols = ['기준금리', 'KOSPI 지수', '매매수급동향', '거래금액']\n",
        "feature_cols = ['기준금리', '거래금액']\n",
        "label_cols = ['거래금액']\n",
        "\n",
        "feature_df59 = pd.DataFrame(scaled_df59, columns = feature_cols)\n",
        "label_df59 = pd.DataFrame(scaled_df59, columns = label_cols)\n",
        "\n",
        "feature_df84 = pd.DataFrame(scaled_df84, columns = feature_cols)\n",
        "label_df84 = pd.DataFrame(scaled_df84, columns = label_cols)\n",
        "\n",
        "# DataFrame to numpy\n",
        "feature_np59 = feature_df59.to_numpy()\n",
        "label_np59 = label_df59.to_numpy()\n",
        "\n",
        "feature_np84 = feature_df84.to_numpy()\n",
        "label_np84 = label_df84.to_numpy()\n",
        "\n",
        "print(feature_np59.shape, label_np59.shape)\n",
        "print(feature_np84.shape, label_np84.shape)"
      ],
      "metadata": {
        "colab": {
          "base_uri": "https://localhost:8080/"
        },
        "id": "trcyRqZnpBIw",
        "outputId": "21380eb0-418c-43fa-eb53-aebff448c2f3"
      },
      "execution_count": 49,
      "outputs": [
        {
          "output_type": "stream",
          "name": "stdout",
          "text": [
            "(58, 2) (58, 1)\n",
            "(71, 2) (71, 1)\n"
          ]
        }
      ]
    },
    {
      "cell_type": "code",
      "source": [
        "# 시계열 데이터 생성\n",
        "window_size = 2\n",
        "X59, Y59 = make_dataset(feature_np59, label_np59, window_size)\n",
        "X84, Y84 = make_dataset(feature_np84, label_np84, window_size)\n",
        "\n",
        "print(X59.shape, Y59.shape)\n",
        "print(X84.shape, Y84.shape)"
      ],
      "metadata": {
        "colab": {
          "base_uri": "https://localhost:8080/"
        },
        "id": "pSzklN52puOv",
        "outputId": "4841e311-cb5a-4761-dc7e-e3c174dc272a"
      },
      "execution_count": 50,
      "outputs": [
        {
          "output_type": "stream",
          "name": "stdout",
          "text": [
            "(56, 2, 2) (56, 1)\n",
            "(69, 2, 2) (69, 1)\n"
          ]
        }
      ]
    },
    {
      "cell_type": "code",
      "source": [
        "# 학습 및 테스트 데이터 생성 (train, test 분리)\n",
        "split59 = int(len(X59)*0.95)\n",
        "\n",
        "x_train59 = X59[0:split59]\n",
        "y_train59 = Y59[0:split59]\n",
        "\n",
        "x_test59 = X59[split59:]\n",
        "y_test59 = Y59[split59:]\n",
        "\n",
        "split84 = int(len(X84)*0.95)\n",
        "\n",
        "x_train84 = X84[0:split84]\n",
        "y_train84 = Y84[0:split84]\n",
        "\n",
        "x_test84 = X84[split84:]\n",
        "y_test84 = Y84[split84:]\n",
        "\n",
        "print(split59)\n",
        "print(x_train59.shape, y_train59.shape)\n",
        "print(x_test59.shape, y_test59.shape)\n",
        "\n",
        "print(split84)\n",
        "print(x_train84.shape, y_train84.shape)\n",
        "print(x_test84.shape, y_test84.shape)"
      ],
      "metadata": {
        "colab": {
          "base_uri": "https://localhost:8080/"
        },
        "id": "FNF0-qIKB7ic",
        "outputId": "e7f81b60-dfa2-419b-9dd1-58104008d0fd"
      },
      "execution_count": 57,
      "outputs": [
        {
          "output_type": "stream",
          "name": "stdout",
          "text": [
            "53\n",
            "(53, 2, 2) (53, 1)\n",
            "(3, 2, 2) (3, 1)\n",
            "65\n",
            "(65, 2, 2) (65, 1)\n",
            "(4, 2, 2) (4, 1)\n"
          ]
        }
      ]
    },
    {
      "cell_type": "code",
      "source": [
        "# 모델 생성\n",
        "from tensorflow.keras.models import Sequential\n",
        "from tensorflow.keras.layers import LSTM, Dense, Dropout\n",
        "\n",
        "model59 = Sequential()\n",
        "\n",
        "model59.add(LSTM(128, activation = 'tanh', input_shape = x_train59[0].shape))\n",
        "model59.add(Dense(1, activation = 'linear'))\n",
        "\n",
        "model84 = Sequential()\n",
        "\n",
        "model84.add(LSTM(128, activation = 'tanh', input_shape = x_train84[0].shape))\n",
        "model84.add(Dense(1, activation = 'linear'))"
      ],
      "metadata": {
        "id": "M5D6gVzlDFru"
      },
      "execution_count": 58,
      "outputs": []
    },
    {
      "cell_type": "code",
      "source": [
        "model59.compile(loss = 'mse', optimizer = 'adam', metrics = ['mae'])\n",
        "model84.compile(loss = 'mse', optimizer = 'adam', metrics = ['mae'])\n",
        "\n",
        "print(model59.summary())\n",
        "print(model84.summary())"
      ],
      "metadata": {
        "colab": {
          "base_uri": "https://localhost:8080/"
        },
        "id": "bj2FTFgFDkCA",
        "outputId": "f4c8e26b-b26f-4fb5-cebd-700e63646114"
      },
      "execution_count": 59,
      "outputs": [
        {
          "output_type": "stream",
          "name": "stdout",
          "text": [
            "Model: \"sequential_7\"\n",
            "_________________________________________________________________\n",
            " Layer (type)                Output Shape              Param #   \n",
            "=================================================================\n",
            " lstm_7 (LSTM)               (None, 128)               67072     \n",
            "                                                                 \n",
            " dense_7 (Dense)             (None, 1)                 129       \n",
            "                                                                 \n",
            "=================================================================\n",
            "Total params: 67,201\n",
            "Trainable params: 67,201\n",
            "Non-trainable params: 0\n",
            "_________________________________________________________________\n",
            "None\n",
            "Model: \"sequential_8\"\n",
            "_________________________________________________________________\n",
            " Layer (type)                Output Shape              Param #   \n",
            "=================================================================\n",
            " lstm_8 (LSTM)               (None, 128)               67072     \n",
            "                                                                 \n",
            " dense_8 (Dense)             (None, 1)                 129       \n",
            "                                                                 \n",
            "=================================================================\n",
            "Total params: 67,201\n",
            "Trainable params: 67,201\n",
            "Non-trainable params: 0\n",
            "_________________________________________________________________\n",
            "None\n"
          ]
        }
      ]
    },
    {
      "cell_type": "code",
      "source": [
        "# 모델 학습\n",
        "from tensorflow.keras.callbacks import EarlyStopping\n",
        "\n",
        "early_stop = EarlyStopping(monitor = 'val_loss', patience = 5)\n",
        "\n",
        "model59.fit(x_train59, y_train59,\n",
        "            validation_data = (x_test59, y_test59),\n",
        "            epochs = 100, batch_size = 2,\n",
        "            callbacks = [early_stop])\n",
        "\n",
        "model84.fit(x_train84, y_train84,\n",
        "            validation_data = (x_test84, y_test84),\n",
        "            epochs = 100, batch_size = 2,\n",
        "            callbacks = [early_stop])"
      ],
      "metadata": {
        "colab": {
          "base_uri": "https://localhost:8080/"
        },
        "id": "pQppSxfVEMgK",
        "outputId": "84d78e62-d737-44dc-e9be-f2f16a047e57"
      },
      "execution_count": 60,
      "outputs": [
        {
          "output_type": "stream",
          "name": "stdout",
          "text": [
            "Epoch 1/100\n",
            "27/27 [==============================] - 3s 24ms/step - loss: 0.1922 - mae: 0.3863 - val_loss: 0.1629 - val_mae: 0.3962\n",
            "Epoch 2/100\n",
            "27/27 [==============================] - 0s 6ms/step - loss: 0.0302 - mae: 0.1389 - val_loss: 0.1533 - val_mae: 0.3861\n",
            "Epoch 3/100\n",
            "27/27 [==============================] - 0s 5ms/step - loss: 0.0217 - mae: 0.1189 - val_loss: 0.1085 - val_mae: 0.3240\n",
            "Epoch 4/100\n",
            "27/27 [==============================] - 0s 6ms/step - loss: 0.0204 - mae: 0.1121 - val_loss: 0.0735 - val_mae: 0.2657\n",
            "Epoch 5/100\n",
            "27/27 [==============================] - 0s 6ms/step - loss: 0.0196 - mae: 0.1078 - val_loss: 0.0580 - val_mae: 0.2352\n",
            "Epoch 6/100\n",
            "27/27 [==============================] - 0s 6ms/step - loss: 0.0191 - mae: 0.1056 - val_loss: 0.0510 - val_mae: 0.2202\n",
            "Epoch 7/100\n",
            "27/27 [==============================] - 0s 5ms/step - loss: 0.0191 - mae: 0.1058 - val_loss: 0.0496 - val_mae: 0.2169\n",
            "Epoch 8/100\n",
            "27/27 [==============================] - 0s 5ms/step - loss: 0.0197 - mae: 0.1096 - val_loss: 0.0466 - val_mae: 0.2095\n",
            "Epoch 9/100\n",
            "27/27 [==============================] - 0s 6ms/step - loss: 0.0230 - mae: 0.1222 - val_loss: 0.0624 - val_mae: 0.2446\n",
            "Epoch 10/100\n",
            "27/27 [==============================] - 0s 6ms/step - loss: 0.0190 - mae: 0.1053 - val_loss: 0.0564 - val_mae: 0.2318\n",
            "Epoch 11/100\n",
            "27/27 [==============================] - 0s 6ms/step - loss: 0.0197 - mae: 0.1095 - val_loss: 0.0666 - val_mae: 0.2530\n",
            "Epoch 12/100\n",
            "27/27 [==============================] - 0s 6ms/step - loss: 0.0191 - mae: 0.1050 - val_loss: 0.0502 - val_mae: 0.2183\n",
            "Epoch 13/100\n",
            "27/27 [==============================] - 0s 5ms/step - loss: 0.0193 - mae: 0.1073 - val_loss: 0.0526 - val_mae: 0.2235\n",
            "Epoch 1/100\n",
            "33/33 [==============================] - 3s 20ms/step - loss: 0.1325 - mae: 0.2999 - val_loss: 0.1463 - val_mae: 0.3581\n",
            "Epoch 2/100\n",
            "33/33 [==============================] - 0s 5ms/step - loss: 0.0250 - mae: 0.1299 - val_loss: 0.1606 - val_mae: 0.3735\n",
            "Epoch 3/100\n",
            "33/33 [==============================] - 0s 5ms/step - loss: 0.0249 - mae: 0.1276 - val_loss: 0.1477 - val_mae: 0.3612\n",
            "Epoch 4/100\n",
            "33/33 [==============================] - 0s 5ms/step - loss: 0.0256 - mae: 0.1292 - val_loss: 0.1307 - val_mae: 0.3428\n",
            "Epoch 5/100\n",
            "33/33 [==============================] - 0s 5ms/step - loss: 0.0252 - mae: 0.1274 - val_loss: 0.1333 - val_mae: 0.3462\n",
            "Epoch 6/100\n",
            "33/33 [==============================] - 0s 5ms/step - loss: 0.0246 - mae: 0.1243 - val_loss: 0.1141 - val_mae: 0.3211\n",
            "Epoch 7/100\n",
            "33/33 [==============================] - 0s 6ms/step - loss: 0.0246 - mae: 0.1263 - val_loss: 0.1320 - val_mae: 0.3457\n",
            "Epoch 8/100\n",
            "33/33 [==============================] - 0s 6ms/step - loss: 0.0254 - mae: 0.1256 - val_loss: 0.1001 - val_mae: 0.2974\n",
            "Epoch 9/100\n",
            "33/33 [==============================] - 0s 6ms/step - loss: 0.0236 - mae: 0.1213 - val_loss: 0.1039 - val_mae: 0.3046\n",
            "Epoch 10/100\n",
            "33/33 [==============================] - 0s 6ms/step - loss: 0.0235 - mae: 0.1185 - val_loss: 0.1087 - val_mae: 0.3122\n",
            "Epoch 11/100\n",
            "33/33 [==============================] - 0s 5ms/step - loss: 0.0253 - mae: 0.1262 - val_loss: 0.0941 - val_mae: 0.2821\n",
            "Epoch 12/100\n",
            "33/33 [==============================] - 0s 5ms/step - loss: 0.0244 - mae: 0.1200 - val_loss: 0.1002 - val_mae: 0.2965\n",
            "Epoch 13/100\n",
            "33/33 [==============================] - 0s 5ms/step - loss: 0.0236 - mae: 0.1201 - val_loss: 0.0885 - val_mae: 0.2643\n",
            "Epoch 14/100\n",
            "33/33 [==============================] - 0s 5ms/step - loss: 0.0234 - mae: 0.1184 - val_loss: 0.1031 - val_mae: 0.3030\n",
            "Epoch 15/100\n",
            "33/33 [==============================] - 0s 5ms/step - loss: 0.0248 - mae: 0.1203 - val_loss: 0.0945 - val_mae: 0.2822\n",
            "Epoch 16/100\n",
            "33/33 [==============================] - 0s 5ms/step - loss: 0.0238 - mae: 0.1190 - val_loss: 0.0891 - val_mae: 0.2657\n",
            "Epoch 17/100\n",
            "33/33 [==============================] - 0s 5ms/step - loss: 0.0229 - mae: 0.1184 - val_loss: 0.0968 - val_mae: 0.2889\n",
            "Epoch 18/100\n",
            "33/33 [==============================] - 0s 5ms/step - loss: 0.0234 - mae: 0.1172 - val_loss: 0.0922 - val_mae: 0.2769\n"
          ]
        },
        {
          "output_type": "execute_result",
          "data": {
            "text/plain": [
              "<keras.callbacks.History at 0x7f90656f34c0>"
            ]
          },
          "metadata": {},
          "execution_count": 60
        }
      ]
    },
    {
      "cell_type": "code",
      "source": [
        "# 한글 출력을 위한 세팅\n",
        "#!sudo apt-get install -y fonts-nanum\n",
        "#!sudo fc-cache -fv\n",
        "#!rm ~/.cache/matplotlib -rf\n",
        "\n",
        "# 예측 vs real 비교 (오차계산 MAPE 사용, 평균절대값백분율오차)\n",
        "pred59 = model59.predict(x_test59)\n",
        "\n",
        "plt.figure(figsize=(12, 6))\n",
        "plt.title('3MA + 5MA + Adj Close, window_size=3')\n",
        "plt.ylabel('거래금액')\n",
        "plt.xlabel('period')\n",
        "plt.plot(y_test59, label='actual')\n",
        "plt.plot(pred59, label='prediction')\n",
        "plt.grid()\n",
        "plt.legend(loc='best')\n",
        "\n",
        "plt.show()\n"
      ],
      "metadata": {
        "colab": {
          "base_uri": "https://localhost:8080/",
          "height": 1000
        },
        "id": "fZRbjivtKYlu",
        "outputId": "89b82cce-8fe9-4971-c05f-6db4e8e7a97f"
      },
      "execution_count": 68,
      "outputs": [
        {
          "output_type": "stream",
          "name": "stdout",
          "text": [
            "Reading package lists... Done\n",
            "Building dependency tree       \n",
            "Reading state information... Done\n",
            "The following package was automatically installed and is no longer required:\n",
            "  libnvidia-common-460\n",
            "Use 'sudo apt autoremove' to remove it.\n",
            "The following NEW packages will be installed:\n",
            "  fonts-nanum\n",
            "0 upgraded, 1 newly installed, 0 to remove and 20 not upgraded.\n",
            "Need to get 9,604 kB of archives.\n",
            "After this operation, 29.5 MB of additional disk space will be used.\n",
            "Get:1 http://archive.ubuntu.com/ubuntu bionic/universe amd64 fonts-nanum all 20170925-1 [9,604 kB]\n",
            "Fetched 9,604 kB in 1s (16.4 MB/s)\n",
            "debconf: unable to initialize frontend: Dialog\n",
            "debconf: (No usable dialog-like program is installed, so the dialog based frontend cannot be used. at /usr/share/perl5/Debconf/FrontEnd/Dialog.pm line 76, <> line 1.)\n",
            "debconf: falling back to frontend: Readline\n",
            "debconf: unable to initialize frontend: Readline\n",
            "debconf: (This frontend requires a controlling tty.)\n",
            "debconf: falling back to frontend: Teletype\n",
            "dpkg-preconfigure: unable to re-open stdin: \n",
            "Selecting previously unselected package fonts-nanum.\n",
            "(Reading database ... 124013 files and directories currently installed.)\n",
            "Preparing to unpack .../fonts-nanum_20170925-1_all.deb ...\n",
            "Unpacking fonts-nanum (20170925-1) ...\n",
            "Setting up fonts-nanum (20170925-1) ...\n",
            "Processing triggers for fontconfig (2.12.6-0ubuntu2) ...\n",
            "/usr/share/fonts: caching, new cache contents: 0 fonts, 1 dirs\n",
            "/usr/share/fonts/truetype: caching, new cache contents: 0 fonts, 3 dirs\n",
            "/usr/share/fonts/truetype/humor-sans: caching, new cache contents: 1 fonts, 0 dirs\n",
            "/usr/share/fonts/truetype/liberation: caching, new cache contents: 16 fonts, 0 dirs\n",
            "/usr/share/fonts/truetype/nanum: caching, new cache contents: 10 fonts, 0 dirs\n",
            "/usr/local/share/fonts: caching, new cache contents: 0 fonts, 0 dirs\n",
            "/root/.local/share/fonts: skipping, no such directory\n",
            "/root/.fonts: skipping, no such directory\n",
            "/var/cache/fontconfig: cleaning cache directory\n",
            "/root/.cache/fontconfig: not cleaning non-existent cache directory\n",
            "/root/.fontconfig: not cleaning non-existent cache directory\n",
            "fc-cache: succeeded\n"
          ]
        },
        {
          "output_type": "stream",
          "name": "stderr",
          "text": [
            "WARNING:tensorflow:6 out of the last 7 calls to <function Model.make_predict_function.<locals>.predict_function at 0x7f9059345670> triggered tf.function retracing. Tracing is expensive and the excessive number of tracings could be due to (1) creating @tf.function repeatedly in a loop, (2) passing tensors with different shapes, (3) passing Python objects instead of tensors. For (1), please define your @tf.function outside of the loop. For (2), @tf.function has reduce_retracing=True option that can avoid unnecessary retracing. For (3), please refer to https://www.tensorflow.org/guide/function#controlling_retracing and https://www.tensorflow.org/api_docs/python/tf/function for  more details.\n"
          ]
        },
        {
          "output_type": "stream",
          "name": "stdout",
          "text": [
            "1/1 [==============================] - 0s 414ms/step\n"
          ]
        },
        {
          "output_type": "stream",
          "name": "stderr",
          "text": [
            "/usr/local/lib/python3.8/dist-packages/matplotlib/backends/backend_agg.py:214: RuntimeWarning: Glyph 44144 missing from current font.\n",
            "  font.set_text(s, 0.0, flags=flags)\n",
            "/usr/local/lib/python3.8/dist-packages/matplotlib/backends/backend_agg.py:214: RuntimeWarning: Glyph 47000 missing from current font.\n",
            "  font.set_text(s, 0.0, flags=flags)\n",
            "/usr/local/lib/python3.8/dist-packages/matplotlib/backends/backend_agg.py:214: RuntimeWarning: Glyph 44552 missing from current font.\n",
            "  font.set_text(s, 0.0, flags=flags)\n",
            "/usr/local/lib/python3.8/dist-packages/matplotlib/backends/backend_agg.py:214: RuntimeWarning: Glyph 50529 missing from current font.\n",
            "  font.set_text(s, 0.0, flags=flags)\n",
            "/usr/local/lib/python3.8/dist-packages/matplotlib/backends/backend_agg.py:183: RuntimeWarning: Glyph 44144 missing from current font.\n",
            "  font.set_text(s, 0, flags=flags)\n",
            "/usr/local/lib/python3.8/dist-packages/matplotlib/backends/backend_agg.py:183: RuntimeWarning: Glyph 47000 missing from current font.\n",
            "  font.set_text(s, 0, flags=flags)\n",
            "/usr/local/lib/python3.8/dist-packages/matplotlib/backends/backend_agg.py:183: RuntimeWarning: Glyph 44552 missing from current font.\n",
            "  font.set_text(s, 0, flags=flags)\n",
            "/usr/local/lib/python3.8/dist-packages/matplotlib/backends/backend_agg.py:183: RuntimeWarning: Glyph 50529 missing from current font.\n",
            "  font.set_text(s, 0, flags=flags)\n"
          ]
        },
        {
          "output_type": "display_data",
          "data": {
            "text/plain": [
              "<Figure size 864x432 with 1 Axes>"
            ],
            "image/png": "[encoded data removed]"
          },
          "metadata": {
            "needs_background": "light"
          }
        }
      ]
    },
    {
      "cell_type": "code",
      "source": [
        "# 예측 vs real 비교 (오차계산 MAPE 사용, 평균절대값백분율오차)\n",
        "pred84 = model84.predict(x_test84)\n",
        "\n",
        "plt.figure(figsize=(12, 6))\n",
        "plt.title('3MA + 5MA + Adj Close, window_size=3')\n",
        "plt.ylabel('거래금액')\n",
        "plt.xlabel('period')\n",
        "plt.plot(y_test84, label='actual')\n",
        "plt.plot(pred84, label='prediction')\n",
        "plt.grid()\n",
        "plt.legend(loc='best')\n",
        "\n",
        "plt.show()"
      ],
      "metadata": {
        "colab": {
          "base_uri": "https://localhost:8080/",
          "height": 736
        },
        "id": "R92JdURwQqiU",
        "outputId": "f2f82a38-b9e5-4b13-d3e2-c9f2720d76c1"
      },
      "execution_count": 61,
      "outputs": [
        {
          "output_type": "stream",
          "name": "stderr",
          "text": [
            "WARNING:tensorflow:5 out of the last 6 calls to <function Model.make_predict_function.<locals>.predict_function at 0x7f906c4c9e50> triggered tf.function retracing. Tracing is expensive and the excessive number of tracings could be due to (1) creating @tf.function repeatedly in a loop, (2) passing tensors with different shapes, (3) passing Python objects instead of tensors. For (1), please define your @tf.function outside of the loop. For (2), @tf.function has reduce_retracing=True option that can avoid unnecessary retracing. For (3), please refer to https://www.tensorflow.org/guide/function#controlling_retracing and https://www.tensorflow.org/api_docs/python/tf/function for  more details.\n"
          ]
        },
        {
          "output_type": "stream",
          "name": "stdout",
          "text": [
            "1/1 [==============================] - 0s 414ms/step\n"
          ]
        },
        {
          "output_type": "stream",
          "name": "stderr",
          "text": [
            "/usr/local/lib/python3.8/dist-packages/matplotlib/backends/backend_agg.py:214: RuntimeWarning: Glyph 44144 missing from current font.\n",
            "  font.set_text(s, 0.0, flags=flags)\n",
            "/usr/local/lib/python3.8/dist-packages/matplotlib/backends/backend_agg.py:214: RuntimeWarning: Glyph 47000 missing from current font.\n",
            "  font.set_text(s, 0.0, flags=flags)\n",
            "/usr/local/lib/python3.8/dist-packages/matplotlib/backends/backend_agg.py:214: RuntimeWarning: Glyph 44552 missing from current font.\n",
            "  font.set_text(s, 0.0, flags=flags)\n",
            "/usr/local/lib/python3.8/dist-packages/matplotlib/backends/backend_agg.py:214: RuntimeWarning: Glyph 50529 missing from current font.\n",
            "  font.set_text(s, 0.0, flags=flags)\n",
            "/usr/local/lib/python3.8/dist-packages/matplotlib/backends/backend_agg.py:183: RuntimeWarning: Glyph 44144 missing from current font.\n",
            "  font.set_text(s, 0, flags=flags)\n",
            "/usr/local/lib/python3.8/dist-packages/matplotlib/backends/backend_agg.py:183: RuntimeWarning: Glyph 47000 missing from current font.\n",
            "  font.set_text(s, 0, flags=flags)\n",
            "/usr/local/lib/python3.8/dist-packages/matplotlib/backends/backend_agg.py:183: RuntimeWarning: Glyph 44552 missing from current font.\n",
            "  font.set_text(s, 0, flags=flags)\n",
            "/usr/local/lib/python3.8/dist-packages/matplotlib/backends/backend_agg.py:183: RuntimeWarning: Glyph 50529 missing from current font.\n",
            "  font.set_text(s, 0, flags=flags)\n"
          ]
        },
        {
          "output_type": "display_data",
          "data": {
            "text/plain": [
              "<Figure size 864x432 with 1 Axes>"
            ],
            "image/png": "[encoded data removed]"
          },
          "metadata": {
            "needs_background": "light"
          }
        }
      ]
    },
    {
      "cell_type": "code",
      "source": [
        "# 평균절대값백분율오차계산 (MAPE)\n",
        "\n",
        "y_test59 - pred59\n",
        "y_test59\n",
        "\n",
        "np.sum(abs(y_test59 - pred59) / y_test59)\n",
        "\n",
        "x_test59\n",
        "\n",
        "#print(np.sum(abs(y_test59 - pred59) / y_test59) / len(x_test59))"
      ],
      "metadata": {
        "colab": {
          "base_uri": "https://localhost:8080/"
        },
        "id": "L2cQMluYfOh9",
        "outputId": "1066c313-02d0-4dd7-afeb-f92cd7b2832b"
      },
      "execution_count": 67,
      "outputs": [
        {
          "output_type": "stream",
          "name": "stderr",
          "text": [
            "<ipython-input-67-9472818880cc>:6: RuntimeWarning: divide by zero encountered in true_divide\n",
            "  np.sum(abs(y_test59 - pred59) / y_test59)\n"
          ]
        },
        {
          "output_type": "execute_result",
          "data": {
            "text/plain": [
              "array([[[0.8       , 0.1682243 ],\n",
              "        [0.8       , 0.76635514]],\n",
              "\n",
              "       [[0.8       , 0.76635514],\n",
              "        [1.        , 0.22429907]],\n",
              "\n",
              "       [[1.        , 0.22429907],\n",
              "        [1.        , 0.26168224]]])"
            ]
          },
          "metadata": {},
          "execution_count": 67
        }
      ]
    }
  ]
}