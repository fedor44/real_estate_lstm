{
  "nbformat": 4,
  "nbformat_minor": 0,
  "metadata": {
    "colab": {
      "provenance": [],
      "authorship_tag": "ABX9TyM7m5IPaK40u6PQsNhSfrZz",
      "include_colab_link": true
    },
    "kernelspec": {
      "name": "python3",
      "display_name": "Python 3"
    },
    "language_info": {
      "name": "python"
    }
  },
  "cells": [
    {
      "cell_type": "markdown",
      "metadata": {
        "id": "view-in-github",
        "colab_type": "text"
      },
      "source": [
        "<a href=\"https://colab.research.google.com/github/fedor44/real_estate_lstm/blob/main/Untitled31.ipynb\" target=\"_parent\"><img src=\"https://colab.research.google.com/assets/colab-badge.svg\" alt=\"Open In Colab\"/></a>"
      ]
    },
    {
      "cell_type": "code",
      "execution_count": 3,
      "metadata": {
        "colab": {
          "base_uri": "https://localhost:8080/",
          "height": 424
        },
        "id": "zk52bgSWjcM2",
        "outputId": "abf13a4c-1f23-4e6b-9de2-ba575809a831"
      },
      "outputs": [
        {
          "output_type": "execute_result",
          "data": {
            "text/plain": [
              "             날짜     거래금액   전용면적  KOSPI 지수  기준금리      매매수급동향\n",
              "0    2020-04-29  115,000  59.98   1947.56  0.75  100.000000\n",
              "1    2020-04-30  140,000  84.97   1947.56  0.75  100.000000\n",
              "2    2020-04-30  140,000  84.97   1947.56  0.75  100.000000\n",
              "3    2020-05-05  144,000  84.94   1947.56  0.75   97.419355\n",
              "4    2020-05-30  144,000  84.95   1947.56  0.50   97.419355\n",
              "..          ...      ...    ...       ...   ...         ...\n",
              "130  2022-10-17  132,500  84.97   2219.71  3.00   77.777778\n",
              "131  2022-10-25  105,000  59.98   2235.07  3.00   77.777778\n",
              "132  2022-11-02  130,000  84.97   2336.87  3.00   77.777778\n",
              "133  2022-11-04  107,000  59.98   2348.43  3.00   77.777778\n",
              "134  2022-11-16   93,000  59.98   2477.45  3.00   77.777778\n",
              "\n",
              "[135 rows x 6 columns]"
            ],
            "text/html": [
              "\n",
              "  <div id=\"df-9276d3bc-c4b3-4f1d-8060-571f60c1847f\">\n",
              "    <div class=\"colab-df-container\">\n",
              "      <div>\n",
              "<style scoped>\n",
              "    .dataframe tbody tr th:only-of-type {\n",
              "        vertical-align: middle;\n",
              "    }\n",
              "\n",
              "    .dataframe tbody tr th {\n",
              "        vertical-align: top;\n",
              "    }\n",
              "\n",
              "    .dataframe thead th {\n",
              "        text-align: right;\n",
              "    }\n",
              "</style>\n",
              "<table border=\"1\" class=\"dataframe\">\n",
              "  <thead>\n",
              "    <tr style=\"text-align: right;\">\n",
              "      <th></th>\n",
              "      <th>날짜</th>\n",
              "      <th>거래금액</th>\n",
              "      <th>전용면적</th>\n",
              "      <th>KOSPI 지수</th>\n",
              "      <th>기준금리</th>\n",
              "      <th>매매수급동향</th>\n",
              "    </tr>\n",
              "  </thead>\n",
              "  <tbody>\n",
              "    <tr>\n",
              "      <th>0</th>\n",
              "      <td>2020-04-29</td>\n",
              "      <td>115,000</td>\n",
              "      <td>59.98</td>\n",
              "      <td>1947.56</td>\n",
              "      <td>0.75</td>\n",
              "      <td>100.000000</td>\n",
              "    </tr>\n",
              "    <tr>\n",
              "      <th>1</th>\n",
              "      <td>2020-04-30</td>\n",
              "      <td>140,000</td>\n",
              "      <td>84.97</td>\n",
              "      <td>1947.56</td>\n",
              "      <td>0.75</td>\n",
              "      <td>100.000000</td>\n",
              "    </tr>\n",
              "    <tr>\n",
              "      <th>2</th>\n",
              "      <td>2020-04-30</td>\n",
              "      <td>140,000</td>\n",
              "      <td>84.97</td>\n",
              "      <td>1947.56</td>\n",
              "      <td>0.75</td>\n",
              "      <td>100.000000</td>\n",
              "    </tr>\n",
              "    <tr>\n",
              "      <th>3</th>\n",
              "      <td>2020-05-05</td>\n",
              "      <td>144,000</td>\n",
              "      <td>84.94</td>\n",
              "      <td>1947.56</td>\n",
              "      <td>0.75</td>\n",
              "      <td>97.419355</td>\n",
              "    </tr>\n",
              "    <tr>\n",
              "      <th>4</th>\n",
              "      <td>2020-05-30</td>\n",
              "      <td>144,000</td>\n",
              "      <td>84.95</td>\n",
              "      <td>1947.56</td>\n",
              "      <td>0.50</td>\n",
              "      <td>97.419355</td>\n",
              "    </tr>\n",
              "    <tr>\n",
              "      <th>...</th>\n",
              "      <td>...</td>\n",
              "      <td>...</td>\n",
              "      <td>...</td>\n",
              "      <td>...</td>\n",
              "      <td>...</td>\n",
              "      <td>...</td>\n",
              "    </tr>\n",
              "    <tr>\n",
              "      <th>130</th>\n",
              "      <td>2022-10-17</td>\n",
              "      <td>132,500</td>\n",
              "      <td>84.97</td>\n",
              "      <td>2219.71</td>\n",
              "      <td>3.00</td>\n",
              "      <td>77.777778</td>\n",
              "    </tr>\n",
              "    <tr>\n",
              "      <th>131</th>\n",
              "      <td>2022-10-25</td>\n",
              "      <td>105,000</td>\n",
              "      <td>59.98</td>\n",
              "      <td>2235.07</td>\n",
              "      <td>3.00</td>\n",
              "      <td>77.777778</td>\n",
              "    </tr>\n",
              "    <tr>\n",
              "      <th>132</th>\n",
              "      <td>2022-11-02</td>\n",
              "      <td>130,000</td>\n",
              "      <td>84.97</td>\n",
              "      <td>2336.87</td>\n",
              "      <td>3.00</td>\n",
              "      <td>77.777778</td>\n",
              "    </tr>\n",
              "    <tr>\n",
              "      <th>133</th>\n",
              "      <td>2022-11-04</td>\n",
              "      <td>107,000</td>\n",
              "      <td>59.98</td>\n",
              "      <td>2348.43</td>\n",
              "      <td>3.00</td>\n",
              "      <td>77.777778</td>\n",
              "    </tr>\n",
              "    <tr>\n",
              "      <th>134</th>\n",
              "      <td>2022-11-16</td>\n",
              "      <td>93,000</td>\n",
              "      <td>59.98</td>\n",
              "      <td>2477.45</td>\n",
              "      <td>3.00</td>\n",
              "      <td>77.777778</td>\n",
              "    </tr>\n",
              "  </tbody>\n",
              "</table>\n",
              "<p>135 rows × 6 columns</p>\n",
              "</div>\n",
              "      <button class=\"colab-df-convert\" onclick=\"convertToInteractive('df-9276d3bc-c4b3-4f1d-8060-571f60c1847f')\"\n",
              "              title=\"Convert this dataframe to an interactive table.\"\n",
              "              style=\"display:none;\">\n",
              "        \n",
              "  <svg xmlns=\"http://www.w3.org/2000/svg\" height=\"24px\"viewBox=\"0 0 24 24\"\n",
              "       width=\"24px\">\n",
              "    <path d=\"M0 0h24v24H0V0z\" fill=\"none\"/>\n",
              "    <path d=\"M18.56 5.44l.94 2.06.94-2.06 2.06-.94-2.06-.94-.94-2.06-.94 2.06-2.06.94zm-11 1L8.5 8.5l.94-2.06 2.06-.94-2.06-.94L8.5 2.5l-.94 2.06-2.06.94zm10 10l.94 2.06.94-2.06 2.06-.94-2.06-.94-.94-2.06-.94 2.06-2.06.94z\"/><path d=\"M17.41 7.96l-1.37-1.37c-.4-.4-.92-.59-1.43-.59-.52 0-1.04.2-1.43.59L10.3 9.45l-7.72 7.72c-.78.78-.78 2.05 0 2.83L4 21.41c.39.39.9.59 1.41.59.51 0 1.02-.2 1.41-.59l7.78-7.78 2.81-2.81c.8-.78.8-2.07 0-2.86zM5.41 20L4 18.59l7.72-7.72 1.47 1.35L5.41 20z\"/>\n",
              "  </svg>\n",
              "      </button>\n",
              "      \n",
              "  <style>\n",
              "    .colab-df-container {\n",
              "      display:flex;\n",
              "      flex-wrap:wrap;\n",
              "      gap: 12px;\n",
              "    }\n",
              "\n",
              "    .colab-df-convert {\n",
              "      background-color: #E8F0FE;\n",
              "      border: none;\n",
              "      border-radius: 50%;\n",
              "      cursor: pointer;\n",
              "      display: none;\n",
              "      fill: #1967D2;\n",
              "      height: 32px;\n",
              "      padding: 0 0 0 0;\n",
              "      width: 32px;\n",
              "    }\n",
              "\n",
              "    .colab-df-convert:hover {\n",
              "      background-color: #E2EBFA;\n",
              "      box-shadow: 0px 1px 2px rgba(60, 64, 67, 0.3), 0px 1px 3px 1px rgba(60, 64, 67, 0.15);\n",
              "      fill: #174EA6;\n",
              "    }\n",
              "\n",
              "    [theme=dark] .colab-df-convert {\n",
              "      background-color: #3B4455;\n",
              "      fill: #D2E3FC;\n",
              "    }\n",
              "\n",
              "    [theme=dark] .colab-df-convert:hover {\n",
              "      background-color: #434B5C;\n",
              "      box-shadow: 0px 1px 3px 1px rgba(0, 0, 0, 0.15);\n",
              "      filter: drop-shadow(0px 1px 2px rgba(0, 0, 0, 0.3));\n",
              "      fill: #FFFFFF;\n",
              "    }\n",
              "  </style>\n",
              "\n",
              "      <script>\n",
              "        const buttonEl =\n",
              "          document.querySelector('#df-9276d3bc-c4b3-4f1d-8060-571f60c1847f button.colab-df-convert');\n",
              "        buttonEl.style.display =\n",
              "          google.colab.kernel.accessAllowed ? 'block' : 'none';\n",
              "\n",
              "        async function convertToInteractive(key) {\n",
              "          const element = document.querySelector('#df-9276d3bc-c4b3-4f1d-8060-571f60c1847f');\n",
              "          const dataTable =\n",
              "            await google.colab.kernel.invokeFunction('convertToInteractive',\n",
              "                                                     [key], {});\n",
              "          if (!dataTable) return;\n",
              "\n",
              "          const docLinkHtml = 'Like what you see? Visit the ' +\n",
              "            '<a target=\"_blank\" href=https://colab.research.google.com/notebooks/data_table.ipynb>data table notebook</a>'\n",
              "            + ' to learn more about interactive tables.';\n",
              "          element.innerHTML = '';\n",
              "          dataTable['output_type'] = 'display_data';\n",
              "          await google.colab.output.renderOutput(dataTable, element);\n",
              "          const docLink = document.createElement('div');\n",
              "          docLink.innerHTML = docLinkHtml;\n",
              "          element.appendChild(docLink);\n",
              "        }\n",
              "      </script>\n",
              "    </div>\n",
              "  </div>\n",
              "  "
            ]
          },
          "metadata": {},
          "execution_count": 3
        }
      ],
      "source": [
        "import tensorflow as tf\n",
        "import numpy as np\n",
        "import pandas as pd\n",
        "import matplotlib.pyplot as plt\n",
        "\n",
        "# 분석을 위한 데이터 로드\n",
        "real_estate_file = '/content/전체데이터.csv'\n",
        "df = pd.read_csv(real_estate_file, index_col = False, encoding = 'cp949')\n",
        "\n",
        "df"
      ]
    },
    {
      "cell_type": "code",
      "source": [
        "# 평수별 데이터 분석을 위한 전처리\n",
        "size59 = df[(df['전용면적']>=59) & (df['전용면적']<=60)].copy()\n",
        "size59['거래금액'] = size59['거래금액'].str.replace(',','')\n",
        "size59['거래금액'] = size59['거래금액'].astype(int)\n",
        "\n",
        "# 평수별 데이터 분석을 위한 전처리\n",
        "size84 = df[(df['전용면적']>=84) & (df['전용면적']<=85)].copy()\n",
        "size84['거래금액'] = size84['거래금액'].str.replace(',','')\n",
        "size84['거래금액'] = size84['거래금액'].astype(int)\n",
        "\n",
        "# 통계정보 출력\n",
        "print(size59.describe())\n",
        "print(size84.describe())\n",
        "\n",
        "# missing Data 확인\n",
        "print(size59.isnull().sum())\n",
        "print(size84.isnull().sum())"
      ],
      "metadata": {
        "colab": {
          "base_uri": "https://localhost:8080/"
        },
        "id": "kSV2yFltkAvQ",
        "outputId": "b91c9f7d-8f89-458e-ed55-3fb281a05c2d"
      },
      "execution_count": 4,
      "outputs": [
        {
          "output_type": "stream",
          "name": "stdout",
          "text": [
            "                거래금액       전용면적     KOSPI 지수       기준금리      매매수급동향\n",
            "count      58.000000  58.000000    58.000000  58.000000   58.000000\n",
            "mean   125812.103448  59.976034  2540.124483   0.956897  106.211464\n",
            "std     11422.607859   0.020169   378.532414   0.818023   13.765454\n",
            "min     93000.000000  59.830000  1947.560000   0.500000   77.777778\n",
            "25%    117850.000000  59.980000  2235.767500   0.500000  100.806452\n",
            "50%    126250.000000  59.980000  2435.630000   0.500000  105.000000\n",
            "75%    134375.000000  59.980000  2767.020000   0.750000  117.903226\n",
            "max    146500.000000  59.980000  3282.060000   3.000000  127.300347\n",
            "                거래금액       전용면적     KOSPI 지수       기준금리      매매수급동향\n",
            "count      71.000000  71.000000    71.000000  71.000000   71.000000\n",
            "mean   160884.028169  84.960845  2619.551972   0.774648  110.168500\n",
            "std     14770.362373   0.015000   435.531729   0.596350   12.781468\n",
            "min    130000.000000  84.930000  1947.560000   0.500000   77.777778\n",
            "25%    149000.000000  84.950000  2234.540000   0.500000  103.225807\n",
            "50%    160000.000000  84.970000  2435.920000   0.500000  113.064516\n",
            "75%    174000.000000  84.970000  3050.885000   0.750000  119.516129\n",
            "max    198000.000000  84.970000  3282.060000   3.000000  127.300347\n",
            "날짜          0\n",
            "거래금액        0\n",
            "전용면적        0\n",
            "KOSPI 지수    0\n",
            "기준금리        0\n",
            "매매수급동향      0\n",
            "dtype: int64\n",
            "날짜          0\n",
            "거래금액        0\n",
            "전용면적        0\n",
            "KOSPI 지수    0\n",
            "기준금리        0\n",
            "매매수급동향      0\n",
            "dtype: int64\n"
          ]
        }
      ]
    },
    {
      "cell_type": "code",
      "source": [
        "# 각 평형별 정규화 (필요 부분 수치부분만 정규화)\n",
        "from sklearn.preprocessing import MinMaxScaler\n",
        "\n",
        "scaler = MinMaxScaler()\n",
        "scale_cols = ['거래금액', '기준금리', 'KOSPI 지수', '매매수급동향']\n",
        "scaled_df59 = scaler.fit_transform(size59[scale_cols])\n",
        "scaled_df59 = pd.DataFrame(scaled_df59, columns = scale_cols)\n",
        "\n",
        "scaled_df84 = scaler.fit_transform(size84[scale_cols])\n",
        "scaled_df84 = pd.DataFrame(scaled_df84, columns = scale_cols)\n",
        "\n",
        "print(scaled_df59)\n",
        "print(scaled_df84)"
      ],
      "metadata": {
        "colab": {
          "base_uri": "https://localhost:8080/"
        },
        "id": "xikzcXLmmdpI",
        "outputId": "d5dd2412-d1b4-4c34-a847-b4173be469c5"
      },
      "execution_count": 5,
      "outputs": [
        {
          "output_type": "stream",
          "name": "stdout",
          "text": [
            "        거래금액  기준금리  KOSPI 지수    매매수급동향\n",
            "0   0.411215   0.1  0.000000  0.448729\n",
            "1   0.317757   0.0  0.175579  0.513867\n",
            "2   0.463551   0.0  0.180862  0.513867\n",
            "3   0.504673   0.0  0.185935  0.513867\n",
            "4   0.504673   0.0  0.144991  0.513867\n",
            "5   0.444860   0.0  0.144991  0.513867\n",
            "6   0.467290   0.0  0.134260  0.513867\n",
            "7   0.429907   0.0  0.123499  0.513867\n",
            "8   0.691589   0.0  0.140195  0.513867\n",
            "9   0.504673   0.0  0.140195  0.513867\n",
            "10  0.523364   0.0  0.109344  0.513867\n",
            "11  0.598131   0.0  0.109344  0.513867\n",
            "12  0.598131   0.0  0.120472  0.513867\n",
            "13  0.785047   0.0  0.226160  0.852585\n",
            "14  0.878505   0.0  0.226160  0.852585\n",
            "15  0.598131   0.0  0.226160  0.852585\n",
            "16  0.566355   0.0  0.227411  0.842815\n",
            "17  0.775701   0.0  0.344646  0.842815\n",
            "18  0.579439   0.0  0.314103  0.842815\n",
            "19  0.485981   0.0  0.314103  0.842815\n",
            "20  0.588785   0.0  0.365950  0.712539\n",
            "21  0.607477   0.0  0.288520  0.712539\n",
            "22  0.373869   0.0  0.270154  0.712539\n",
            "23  0.869159   0.0  0.449502  0.549693\n",
            "24  0.598131   0.0  0.502211  0.549693\n",
            "25  0.850467   0.0  0.502211  0.549693\n",
            "26  0.878505   0.0  0.482413  0.549693\n",
            "27  0.672897   0.0  0.545777  0.725566\n",
            "28  0.654206   0.0  0.598651  0.725566\n",
            "29  0.785047   0.0  0.616336  0.810246\n",
            "30  0.728972   0.0  0.781574  0.810246\n",
            "31  0.785047   0.0  0.812379  0.810246\n",
            "32  0.785047   0.0  0.909164  0.868870\n",
            "33  0.635514   0.0  0.770746  0.712539\n",
            "34  0.682243   0.0  0.879183  0.644144\n",
            "35  0.691589   0.0  0.883867  0.644144\n",
            "36  0.747664   0.0  0.883867  0.644144\n",
            "37  0.710280   0.0  0.880142  0.732080\n",
            "38  0.841121   0.0  1.000000  0.992989\n",
            "39  0.912150   0.0  0.995556  1.000000\n",
            "40  0.912150   0.0  0.995556  1.000000\n",
            "41  1.000000   0.1  0.856238  1.000000\n",
            "42  0.962617   0.1  0.856238  1.000000\n",
            "43  0.921495   0.1  0.725980  0.796670\n",
            "44  0.766355   0.4  0.607224  0.351446\n",
            "45  0.762617   0.4  0.504219  0.351446\n",
            "46  0.672897   0.5  0.504219  0.351446\n",
            "47  0.663551   0.5  0.504219  0.351446\n",
            "48  0.317757   0.7  0.365515  0.222612\n",
            "49  0.411215   0.7  0.374590  0.222612\n",
            "50  0.411215   0.8  0.399753  0.222612\n",
            "51  0.411215   0.8  0.359183  0.222612\n",
            "52  0.411215   0.8  0.359183  0.103418\n",
            "53  0.168224   0.8  0.204856  0.103418\n",
            "54  0.766355   0.8  0.217535  0.000000\n",
            "55  0.224299   1.0  0.215444  0.000000\n",
            "56  0.261682   1.0  0.300390  0.000000\n",
            "57  0.000000   1.0  0.397070  0.000000\n",
            "        거래금액  기준금리  KOSPI 지수    매매수급동향\n",
            "0   0.147059   0.1  0.000000  0.448729\n",
            "1   0.147059   0.1  0.000000  0.448729\n",
            "2   0.205882   0.1  0.000000  0.396619\n",
            "3   0.205882   0.0  0.000000  0.396619\n",
            "4   0.286765   0.0  0.149449  0.513867\n",
            "..       ...   ...       ...       ...\n",
            "66  0.264706   0.7  0.348745  0.288344\n",
            "67  0.264706   0.7  0.348745  0.222612\n",
            "68  0.654412   0.8  0.376156  0.103418\n",
            "69  0.036765   1.0  0.203934  0.000000\n",
            "70  0.000000   1.0  0.291727  0.000000\n",
            "\n",
            "[71 rows x 4 columns]\n"
          ]
        }
      ]
    },
    {
      "cell_type": "code",
      "source": [
        "# 시계열 dataset 생성 함수\n",
        "def make_dataset(feature, label, window_size):\n",
        "\n",
        "  feature_list = []\n",
        "  label_list = []\n",
        "\n",
        "  for i in range(len(feature) - window_size):\n",
        "    feature_list.append(feature[i:i + window_size])\n",
        "    label_list.append(label[i + window_size])\n",
        "\n",
        "  return np.array(feature_list), np.array(label_list)"
      ],
      "metadata": {
        "id": "bg_iwGCZoQ3I"
      },
      "execution_count": 6,
      "outputs": []
    },
    {
      "cell_type": "code",
      "source": [
        "# feature_df, label_df 생성\n",
        "feature_cols = ['기준금리', 'KOSPI 지수', '매매수급동향', '거래금액']\n",
        "label_cols = ['거래금액']\n",
        "\n",
        "feature_df59 = pd.DataFrame(scaled_df59, columns = feature_cols)\n",
        "label_df59 = pd.DataFrame(scaled_df59, columns = label_cols)\n",
        "\n",
        "feature_df84 = pd.DataFrame(scaled_df84, columns = feature_cols)\n",
        "label_df84 = pd.DataFrame(scaled_df84, columns = label_cols)\n",
        "\n",
        "# DataFrame to numpy\n",
        "feature_np59 = feature_df59.to_numpy()\n",
        "label_np59 = label_df59.to_numpy()\n",
        "\n",
        "feature_np84 = feature_df84.to_numpy()\n",
        "label_np84 = label_df84.to_numpy()\n",
        "\n",
        "print(feature_np59.shape, label_np59.shape)\n",
        "print(feature_np84.shape, label_np84.shape)"
      ],
      "metadata": {
        "colab": {
          "base_uri": "https://localhost:8080/"
        },
        "id": "trcyRqZnpBIw",
        "outputId": "e9bc2255-2288-480f-c411-da369e5cf986"
      },
      "execution_count": 7,
      "outputs": [
        {
          "output_type": "stream",
          "name": "stdout",
          "text": [
            "(58, 4) (58, 1)\n",
            "(71, 4) (71, 1)\n"
          ]
        }
      ]
    },
    {
      "cell_type": "code",
      "source": [
        "# 시계열 데이터 생성\n",
        "window_size = 2\n",
        "X59, Y59 = make_dataset(feature_np59, label_np59, window_size)\n",
        "X84, Y84 = make_dataset(feature_np84, label_np84, window_size)\n",
        "\n",
        "print(X59.shape, Y59.shape)\n",
        "print(X84.shape, Y84.shape)"
      ],
      "metadata": {
        "colab": {
          "base_uri": "https://localhost:8080/"
        },
        "id": "pSzklN52puOv",
        "outputId": "233f7125-e60a-406f-bef8-e79acfa6825d"
      },
      "execution_count": 8,
      "outputs": [
        {
          "output_type": "stream",
          "name": "stdout",
          "text": [
            "(56, 2, 4) (56, 1)\n",
            "(69, 2, 4) (69, 1)\n"
          ]
        }
      ]
    },
    {
      "cell_type": "code",
      "source": [
        "# 학습 및 테스트 데이터 생성 (train, test 분리)\n",
        "split59 = int(len(X59)*0.70)\n",
        "\n",
        "x_train59 = X59[0:split59]\n",
        "y_train59 = Y59[0:split59]\n",
        "\n",
        "x_test59 = X59[split59:]\n",
        "y_test59 = Y59[split59:]\n",
        "\n",
        "split84 = int(len(X84)*0.70)\n",
        "\n",
        "x_train84 = X84[0:split84]\n",
        "y_train84 = Y84[0:split84]\n",
        "\n",
        "x_test84 = X84[split84:]\n",
        "y_test84 = Y84[split84:]\n",
        "\n",
        "print(split59)\n",
        "print(x_train59.shape, y_train59.shape)\n",
        "print(x_test59.shape, y_test59.shape)\n",
        "\n",
        "print(split84)\n",
        "print(x_train84.shape, y_train84.shape)\n",
        "print(x_test84.shape, y_test84.shape)"
      ],
      "metadata": {
        "colab": {
          "base_uri": "https://localhost:8080/"
        },
        "id": "FNF0-qIKB7ic",
        "outputId": "d1fb1087-2230-4dac-efec-753363565331"
      },
      "execution_count": 9,
      "outputs": [
        {
          "output_type": "stream",
          "name": "stdout",
          "text": [
            "39\n",
            "(39, 2, 4) (39, 1)\n",
            "(17, 2, 4) (17, 1)\n",
            "48\n",
            "(48, 2, 4) (48, 1)\n",
            "(21, 2, 4) (21, 1)\n"
          ]
        }
      ]
    },
    {
      "cell_type": "code",
      "source": [
        "# 모델 생성\n",
        "from tensorflow.keras.models import Sequential\n",
        "from tensorflow.keras.layers import LSTM, Dense, Dropout\n",
        "\n",
        "model59 = Sequential()\n",
        "\n",
        "model59.add(LSTM(64, activation = 'tanh', input_shape = x_train59[0].shape))\n",
        "model59.add(Dense(1, activation = 'linear'))\n",
        "\n",
        "model84 = Sequential()\n",
        "\n",
        "model84.add(LSTM(64, activation = 'tanh', input_shape = x_train84[0].shape))\n",
        "model84.add(Dense(1, activation = 'linear'))"
      ],
      "metadata": {
        "id": "M5D6gVzlDFru"
      },
      "execution_count": 10,
      "outputs": []
    },
    {
      "cell_type": "code",
      "source": [
        "model59.compile(loss = 'mse', optimizer = 'adam', metrics = ['mae'])\n",
        "model84.compile(loss = 'mse', optimizer = 'adam', metrics = ['mae'])\n",
        "\n",
        "print(model59.summary())\n",
        "print(model84.summary())"
      ],
      "metadata": {
        "colab": {
          "base_uri": "https://localhost:8080/"
        },
        "id": "bj2FTFgFDkCA",
        "outputId": "106aa98d-5b49-4fb7-cdfe-f5c09ab1356e"
      },
      "execution_count": 11,
      "outputs": [
        {
          "output_type": "stream",
          "name": "stdout",
          "text": [
            "Model: \"sequential\"\n",
            "_________________________________________________________________\n",
            " Layer (type)                Output Shape              Param #   \n",
            "=================================================================\n",
            " lstm (LSTM)                 (None, 64)                17664     \n",
            "                                                                 \n",
            " dense (Dense)               (None, 1)                 65        \n",
            "                                                                 \n",
            "=================================================================\n",
            "Total params: 17,729\n",
            "Trainable params: 17,729\n",
            "Non-trainable params: 0\n",
            "_________________________________________________________________\n",
            "None\n",
            "Model: \"sequential_1\"\n",
            "_________________________________________________________________\n",
            " Layer (type)                Output Shape              Param #   \n",
            "=================================================================\n",
            " lstm_1 (LSTM)               (None, 64)                17664     \n",
            "                                                                 \n",
            " dense_1 (Dense)             (None, 1)                 65        \n",
            "                                                                 \n",
            "=================================================================\n",
            "Total params: 17,729\n",
            "Trainable params: 17,729\n",
            "Non-trainable params: 0\n",
            "_________________________________________________________________\n",
            "None\n"
          ]
        }
      ]
    },
    {
      "cell_type": "code",
      "source": [
        "# 모델 학습\n",
        "from tensorflow.keras.callbacks import EarlyStopping\n",
        "\n",
        "early_stop = EarlyStopping(monitor = 'val_loss', patience = 5)\n",
        "\n",
        "model59.fit(x_train59, y_train59,\n",
        "            validation_data = (x_test59, y_test59),\n",
        "            epochs = 100, batch_size = 1,\n",
        "            callbacks = [early_stop])\n",
        "\n",
        "model84.fit(x_train84, y_train84,\n",
        "            validation_data = (x_test84, y_test84),\n",
        "            epochs = 100, batch_size = 2,\n",
        "            callbacks = [early_stop])"
      ],
      "metadata": {
        "colab": {
          "base_uri": "https://localhost:8080/"
        },
        "id": "pQppSxfVEMgK",
        "outputId": "76fdea44-e364-451d-9ebb-9d2e514fb996"
      },
      "execution_count": 12,
      "outputs": [
        {
          "output_type": "stream",
          "name": "stdout",
          "text": [
            "Epoch 1/100\n",
            "39/39 [==============================] - 2s 18ms/step - loss: 0.2722 - mae: 0.4620 - val_loss: 0.0371 - val_mae: 0.1591\n",
            "Epoch 2/100\n",
            "39/39 [==============================] - 0s 3ms/step - loss: 0.0173 - mae: 0.1094 - val_loss: 0.0389 - val_mae: 0.1513\n",
            "Epoch 3/100\n",
            "39/39 [==============================] - 0s 4ms/step - loss: 0.0160 - mae: 0.0954 - val_loss: 0.0343 - val_mae: 0.1481\n",
            "Epoch 4/100\n",
            "39/39 [==============================] - 0s 3ms/step - loss: 0.0162 - mae: 0.0969 - val_loss: 0.0411 - val_mae: 0.1568\n",
            "Epoch 5/100\n",
            "39/39 [==============================] - 0s 3ms/step - loss: 0.0164 - mae: 0.0996 - val_loss: 0.0372 - val_mae: 0.1475\n",
            "Epoch 6/100\n",
            "39/39 [==============================] - 0s 5ms/step - loss: 0.0158 - mae: 0.0960 - val_loss: 0.0398 - val_mae: 0.1534\n",
            "Epoch 7/100\n",
            "39/39 [==============================] - 0s 5ms/step - loss: 0.0162 - mae: 0.0970 - val_loss: 0.0422 - val_mae: 0.1601\n",
            "Epoch 8/100\n",
            "39/39 [==============================] - 0s 3ms/step - loss: 0.0151 - mae: 0.0968 - val_loss: 0.0332 - val_mae: 0.1471\n",
            "Epoch 9/100\n",
            "39/39 [==============================] - 0s 3ms/step - loss: 0.0160 - mae: 0.0978 - val_loss: 0.0412 - val_mae: 0.1585\n",
            "Epoch 10/100\n",
            "39/39 [==============================] - 0s 5ms/step - loss: 0.0153 - mae: 0.0986 - val_loss: 0.0328 - val_mae: 0.1421\n",
            "Epoch 11/100\n",
            "39/39 [==============================] - 0s 4ms/step - loss: 0.0176 - mae: 0.1024 - val_loss: 0.0306 - val_mae: 0.1323\n",
            "Epoch 12/100\n",
            "39/39 [==============================] - 0s 5ms/step - loss: 0.0159 - mae: 0.0945 - val_loss: 0.0331 - val_mae: 0.1355\n",
            "Epoch 13/100\n",
            "39/39 [==============================] - 0s 5ms/step - loss: 0.0153 - mae: 0.1003 - val_loss: 0.0278 - val_mae: 0.1266\n",
            "Epoch 14/100\n",
            "39/39 [==============================] - 0s 4ms/step - loss: 0.0153 - mae: 0.0914 - val_loss: 0.0333 - val_mae: 0.1363\n",
            "Epoch 15/100\n",
            "39/39 [==============================] - 0s 3ms/step - loss: 0.0177 - mae: 0.1056 - val_loss: 0.0428 - val_mae: 0.1722\n",
            "Epoch 16/100\n",
            "39/39 [==============================] - 0s 3ms/step - loss: 0.0185 - mae: 0.1052 - val_loss: 0.0331 - val_mae: 0.1358\n",
            "Epoch 17/100\n",
            "39/39 [==============================] - 0s 5ms/step - loss: 0.0152 - mae: 0.0950 - val_loss: 0.0272 - val_mae: 0.1234\n",
            "Epoch 18/100\n",
            "39/39 [==============================] - 0s 4ms/step - loss: 0.0145 - mae: 0.0952 - val_loss: 0.0281 - val_mae: 0.1311\n",
            "Epoch 19/100\n",
            "39/39 [==============================] - 0s 5ms/step - loss: 0.0164 - mae: 0.0975 - val_loss: 0.0266 - val_mae: 0.1224\n",
            "Epoch 20/100\n",
            "39/39 [==============================] - 0s 4ms/step - loss: 0.0162 - mae: 0.1014 - val_loss: 0.0266 - val_mae: 0.1244\n",
            "Epoch 21/100\n",
            "39/39 [==============================] - 0s 4ms/step - loss: 0.0145 - mae: 0.0916 - val_loss: 0.0267 - val_mae: 0.1120\n",
            "Epoch 22/100\n",
            "39/39 [==============================] - 0s 3ms/step - loss: 0.0146 - mae: 0.0954 - val_loss: 0.0252 - val_mae: 0.1201\n",
            "Epoch 23/100\n",
            "39/39 [==============================] - 0s 3ms/step - loss: 0.0147 - mae: 0.0966 - val_loss: 0.0266 - val_mae: 0.1256\n",
            "Epoch 24/100\n",
            "39/39 [==============================] - 0s 5ms/step - loss: 0.0150 - mae: 0.0948 - val_loss: 0.0236 - val_mae: 0.1090\n",
            "Epoch 25/100\n",
            "39/39 [==============================] - 0s 4ms/step - loss: 0.0158 - mae: 0.1046 - val_loss: 0.0250 - val_mae: 0.1198\n",
            "Epoch 26/100\n",
            "39/39 [==============================] - 0s 3ms/step - loss: 0.0154 - mae: 0.1012 - val_loss: 0.0232 - val_mae: 0.1052\n",
            "Epoch 27/100\n",
            "39/39 [==============================] - 0s 3ms/step - loss: 0.0152 - mae: 0.0949 - val_loss: 0.0253 - val_mae: 0.1199\n",
            "Epoch 28/100\n",
            "39/39 [==============================] - 0s 3ms/step - loss: 0.0151 - mae: 0.0929 - val_loss: 0.0239 - val_mae: 0.1142\n",
            "Epoch 29/100\n",
            "39/39 [==============================] - 0s 3ms/step - loss: 0.0137 - mae: 0.0975 - val_loss: 0.0317 - val_mae: 0.1365\n",
            "Epoch 30/100\n",
            "39/39 [==============================] - 0s 5ms/step - loss: 0.0162 - mae: 0.0968 - val_loss: 0.0241 - val_mae: 0.1072\n",
            "Epoch 31/100\n",
            "39/39 [==============================] - 0s 3ms/step - loss: 0.0144 - mae: 0.0898 - val_loss: 0.0266 - val_mae: 0.1147\n",
            "Epoch 1/100\n",
            "24/24 [==============================] - 3s 53ms/step - loss: 0.0918 - mae: 0.2448 - val_loss: 0.0713 - val_mae: 0.2285\n",
            "Epoch 2/100\n",
            "24/24 [==============================] - 0s 4ms/step - loss: 0.0156 - mae: 0.0987 - val_loss: 0.0396 - val_mae: 0.1381\n",
            "Epoch 3/100\n",
            "24/24 [==============================] - 0s 5ms/step - loss: 0.0177 - mae: 0.1051 - val_loss: 0.0555 - val_mae: 0.1913\n",
            "Epoch 4/100\n",
            "24/24 [==============================] - 0s 5ms/step - loss: 0.0178 - mae: 0.1012 - val_loss: 0.0482 - val_mae: 0.1695\n",
            "Epoch 5/100\n",
            "24/24 [==============================] - 0s 4ms/step - loss: 0.0187 - mae: 0.1076 - val_loss: 0.0520 - val_mae: 0.1803\n",
            "Epoch 6/100\n",
            "24/24 [==============================] - 0s 5ms/step - loss: 0.0175 - mae: 0.1008 - val_loss: 0.0451 - val_mae: 0.1576\n",
            "Epoch 7/100\n",
            "24/24 [==============================] - 0s 4ms/step - loss: 0.0172 - mae: 0.1032 - val_loss: 0.0524 - val_mae: 0.1797\n"
          ]
        },
        {
          "output_type": "execute_result",
          "data": {
            "text/plain": [
              "<keras.callbacks.History at 0x7f87004125b0>"
            ]
          },
          "metadata": {},
          "execution_count": 12
        }
      ]
    },
    {
      "cell_type": "code",
      "source": [
        "# 한글 출력을 위한 세팅\n",
        "#!sudo apt-get install -y fonts-nanum\n",
        "#!sudo fc-cache -fv\n",
        "#!rm ~/.cache/matplotlib -rf\n",
        "\n",
        "plt.rc('font', family='NanumBarunGothic') \n",
        "\n",
        "pred59 = model59.predict(x_test59)\n",
        "\n",
        "# 예측 vs real 비교 시각화\n",
        "plt.figure(figsize=(12, 6))\n",
        "plt.title('기준금리 + KOSPI 지수 + 매매수급동향 + 거래금액, window_size=2')\n",
        "plt.ylabel('거래금액')\n",
        "plt.xlabel('period')\n",
        "plt.plot(y_test59, label='actual')\n",
        "plt.plot(pred59, label='prediction')\n",
        "plt.grid()\n",
        "plt.legend(loc='best')\n",
        "\n",
        "plt.show()\n"
      ],
      "metadata": {
        "colab": {
          "base_uri": "https://localhost:8080/",
          "height": 768
        },
        "id": "fZRbjivtKYlu",
        "outputId": "d550d174-54d0-48a0-863f-efa1914ee224"
      },
      "execution_count": 13,
      "outputs": [
        {
          "output_type": "stream",
          "name": "stdout",
          "text": [
            "Reading package lists... Done\n",
            "Building dependency tree       \n",
            "Reading state information... Done\n",
            "fonts-nanum is already the newest version (20170925-1).\n",
            "The following package was automatically installed and is no longer required:\n",
            "  libnvidia-common-460\n",
            "Use 'sudo apt autoremove' to remove it.\n",
            "0 upgraded, 0 newly installed, 0 to remove and 20 not upgraded.\n",
            "/usr/share/fonts: caching, new cache contents: 0 fonts, 1 dirs\n",
            "/usr/share/fonts/truetype: caching, new cache contents: 0 fonts, 3 dirs\n",
            "/usr/share/fonts/truetype/humor-sans: caching, new cache contents: 1 fonts, 0 dirs\n",
            "/usr/share/fonts/truetype/liberation: caching, new cache contents: 16 fonts, 0 dirs\n",
            "/usr/share/fonts/truetype/nanum: caching, new cache contents: 10 fonts, 0 dirs\n",
            "/usr/local/share/fonts: caching, new cache contents: 0 fonts, 0 dirs\n",
            "/root/.local/share/fonts: skipping, no such directory\n",
            "/root/.fonts: skipping, no such directory\n",
            "/var/cache/fontconfig: cleaning cache directory\n",
            "/root/.cache/fontconfig: not cleaning non-existent cache directory\n",
            "/root/.fontconfig: not cleaning non-existent cache directory\n",
            "fc-cache: succeeded\n",
            "1/1 [==============================] - 0s 439ms/step\n"
          ]
        },
        {
          "output_type": "display_data",
          "data": {
            "text/plain": [
              "<Figure size 864x432 with 1 Axes>"
            ],
            "image/png": "[encoded data removed]"
          },
          "metadata": {
            "needs_background": "light"
          }
        }
      ]
    },
    {
      "cell_type": "code",
      "source": [
        "# 예측 vs real 비교 시각화\n",
        "pred84 = model84.predict(x_test84)\n",
        "\n",
        "plt.figure(figsize=(12, 6))\n",
        "plt.title('기준금리 + KOSPI 지수 + 매매수급동향 + 거래금액, window_size=1')\n",
        "plt.ylabel('거래금액')\n",
        "plt.xlabel('period')\n",
        "plt.plot(y_test84, label='actual')\n",
        "plt.plot(pred84, label='prediction')\n",
        "plt.grid()\n",
        "plt.legend(loc='best')\n",
        "\n",
        "plt.show()"
      ],
      "metadata": {
        "colab": {
          "base_uri": "https://localhost:8080/",
          "height": 420
        },
        "id": "R92JdURwQqiU",
        "outputId": "b3068131-b20f-4112-bf32-a6a554a22705"
      },
      "execution_count": 14,
      "outputs": [
        {
          "output_type": "stream",
          "name": "stdout",
          "text": [
            "1/1 [==============================] - 0s 404ms/step\n"
          ]
        },
        {
          "output_type": "display_data",
          "data": {
            "text/plain": [
              "<Figure size 864x432 with 1 Axes>"
            ],
            "image/png": "[encoded data removed]"
          },
          "metadata": {
            "needs_background": "light"
          }
        }
      ]
    },
    {
      "cell_type": "code",
      "source": [
        "# MAPE 값 산출 (계산에 사용되는 변수에 0 이 존재하여 inf 발생 -> 사용할 수 없음)\n",
        "# print(np.sum(abs(y_test59 - pred59) / y_test59) / len(x_test59))\n",
        "\n",
        "# SMAPE 값 산출\n",
        "# 값이 작을수록 모델의 성능이 좋음\n",
        "print('=== 59㎡ SMAPE ===')\n",
        "print(np.mean((np.abs(y_test59 - pred59))/(np.abs(y_test59) + np.abs(pred59))))\n",
        "print()\n",
        "print('=== 84㎡ SMAPE ===')\n",
        "print(np.mean((np.abs(y_test84 - pred84))/(np.abs(y_test84) + np.abs(pred84))))"
      ],
      "metadata": {
        "colab": {
          "base_uri": "https://localhost:8080/"
        },
        "id": "L2cQMluYfOh9",
        "outputId": "d521b440-6c53-47cd-fa2b-adaf13cd0b52"
      },
      "execution_count": 15,
      "outputs": [
        {
          "output_type": "stream",
          "name": "stdout",
          "text": [
            "=== 59㎡ SMAPE ===\n",
            "0.1752795174821197\n",
            "\n",
            "=== 84㎡ SMAPE ===\n",
            "0.21753857991447512\n"
          ]
        }
      ]
    },
    {
      "cell_type": "code",
      "source": [
        "# MSE, MAE, RMSE 값 산출\n",
        "from sklearn.metrics import mean_squared_error\n",
        "from sklearn.metrics import mean_absolute_error\n",
        "print('=== 59㎡ MSE ===')\n",
        "print(mean_squared_error(y_test59, pred59))\n",
        "print('=== 59㎡ MAE ===')\n",
        "print(mean_absolute_error(y_test59, pred59))\n",
        "print('=== 59㎡ RMSE ===')\n",
        "print(np.sqrt(mean_absolute_error(y_test59, pred59)))\n",
        "print()\n",
        "print('=== 84㎡ MSE ===')\n",
        "print(mean_squared_error(y_test84, pred84))\n",
        "print('=== 84㎡ MAE ===')\n",
        "print(mean_absolute_error(y_test84, pred84))\n",
        "print('=== 84㎡ RMSE ===')\n",
        "print(np.sqrt(mean_absolute_error(y_test84, pred84)))"
      ],
      "metadata": {
        "id": "-LAa7RNr8ooW",
        "outputId": "8bfce5f2-7263-40fa-a01a-daf7556180e2",
        "colab": {
          "base_uri": "https://localhost:8080/"
        }
      },
      "execution_count": 16,
      "outputs": [
        {
          "output_type": "stream",
          "name": "stdout",
          "text": [
            "=== 59㎡ MSE ===\n",
            "0.02662224002613895\n",
            "=== 59㎡ MAE ===\n",
            "0.11474974048602958\n",
            "=== 59㎡ RMSE ===\n",
            "0.3387473106698112\n",
            "\n",
            "=== 84㎡ MSE ===\n",
            "0.05236064465970727\n",
            "=== 84㎡ MAE ===\n",
            "0.17967495350610635\n",
            "=== 84㎡ RMSE ===\n",
            "0.42388082465016785\n"
          ]
        }
      ]
    }
  ]
}